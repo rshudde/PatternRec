{
 "cells": [
  {
   "cell_type": "code",
   "execution_count": 1,
   "metadata": {
    "collapsed": true
   },
   "outputs": [],
   "source": [
    "import pandas as pd\n",
    "import matplotlib.pyplot as plt\n",
    "import matplotlib.mlab as mlab\n",
    "import numpy as np\n",
    "from sklearn import datasets\n",
    "from sklearn import neural_network\n",
    "from sklearn.model_selection import train_test_split\n",
    "from sklearn.model_selection import ParameterGrid\n",
    "from sklearn.model_selection import GridSearchCV\n",
    "import statistics"
   ]
  },
  {
   "cell_type": "code",
   "execution_count": 2,
   "metadata": {},
   "outputs": [],
   "source": [
    "readIn = pd.read_csv('admitData.csv', low_memory = False)"
   ]
  },
  {
   "cell_type": "code",
   "execution_count": 3,
   "metadata": {},
   "outputs": [
    {
     "data": {
      "text/html": [
       "<div>\n",
       "<style>\n",
       "    .dataframe thead tr:only-child th {\n",
       "        text-align: right;\n",
       "    }\n",
       "\n",
       "    .dataframe thead th {\n",
       "        text-align: left;\n",
       "    }\n",
       "\n",
       "    .dataframe tbody tr th {\n",
       "        vertical-align: top;\n",
       "    }\n",
       "</style>\n",
       "<table border=\"1\" class=\"dataframe\">\n",
       "  <thead>\n",
       "    <tr style=\"text-align: right;\">\n",
       "      <th></th>\n",
       "      <th>aID</th>\n",
       "      <th>TERM_CODE</th>\n",
       "      <th>EntryTermOffset</th>\n",
       "      <th>STU_TYPE</th>\n",
       "      <th>enrollmentProbabilityScore</th>\n",
       "      <th>dtCreated</th>\n",
       "      <th>enrollFlag</th>\n",
       "      <th>RET_T2</th>\n",
       "      <th>RET_T3</th>\n",
       "      <th>SUS</th>\n",
       "      <th>...</th>\n",
       "      <th>SAT_MathQuant</th>\n",
       "      <th>SAT_Writing</th>\n",
       "      <th>SAT_WritingEquiv</th>\n",
       "      <th>SAT_CompEquiv</th>\n",
       "      <th>SAT_MathQuantEquiv</th>\n",
       "      <th>SAT_EngVerbEquiv</th>\n",
       "      <th>HS_VAR1</th>\n",
       "      <th>ComboRank</th>\n",
       "      <th>RegressionRank</th>\n",
       "      <th>AcademicRank</th>\n",
       "    </tr>\n",
       "  </thead>\n",
       "  <tbody>\n",
       "    <tr>\n",
       "      <th>0</th>\n",
       "      <td>2886776</td>\n",
       "      <td>201710</td>\n",
       "      <td>2</td>\n",
       "      <td>F</td>\n",
       "      <td>NaN</td>\n",
       "      <td>00:08.6</td>\n",
       "      <td>0</td>\n",
       "      <td>NaN</td>\n",
       "      <td>NaN</td>\n",
       "      <td>04:37.8</td>\n",
       "      <td>...</td>\n",
       "      <td>NaN</td>\n",
       "      <td>NaN</td>\n",
       "      <td>NaN</td>\n",
       "      <td>NaN</td>\n",
       "      <td>NaN</td>\n",
       "      <td>NaN</td>\n",
       "      <td>NaN</td>\n",
       "      <td>NaN</td>\n",
       "      <td>NaN</td>\n",
       "      <td>NaN</td>\n",
       "    </tr>\n",
       "    <tr>\n",
       "      <th>1</th>\n",
       "      <td>2886777</td>\n",
       "      <td>201710</td>\n",
       "      <td>2</td>\n",
       "      <td>F</td>\n",
       "      <td>NaN</td>\n",
       "      <td>00:08.6</td>\n",
       "      <td>0</td>\n",
       "      <td>NaN</td>\n",
       "      <td>NaN</td>\n",
       "      <td>04:37.8</td>\n",
       "      <td>...</td>\n",
       "      <td>NaN</td>\n",
       "      <td>NaN</td>\n",
       "      <td>NaN</td>\n",
       "      <td>NaN</td>\n",
       "      <td>NaN</td>\n",
       "      <td>NaN</td>\n",
       "      <td>NaN</td>\n",
       "      <td>NaN</td>\n",
       "      <td>NaN</td>\n",
       "      <td>NaN</td>\n",
       "    </tr>\n",
       "    <tr>\n",
       "      <th>2</th>\n",
       "      <td>2886778</td>\n",
       "      <td>201710</td>\n",
       "      <td>2</td>\n",
       "      <td>F</td>\n",
       "      <td>NaN</td>\n",
       "      <td>00:08.6</td>\n",
       "      <td>0</td>\n",
       "      <td>NaN</td>\n",
       "      <td>NaN</td>\n",
       "      <td>04:37.8</td>\n",
       "      <td>...</td>\n",
       "      <td>NaN</td>\n",
       "      <td>NaN</td>\n",
       "      <td>NaN</td>\n",
       "      <td>NaN</td>\n",
       "      <td>NaN</td>\n",
       "      <td>NaN</td>\n",
       "      <td>NaN</td>\n",
       "      <td>NaN</td>\n",
       "      <td>NaN</td>\n",
       "      <td>NaN</td>\n",
       "    </tr>\n",
       "  </tbody>\n",
       "</table>\n",
       "<p>3 rows × 128 columns</p>\n",
       "</div>"
      ],
      "text/plain": [
       "       aID  TERM_CODE  EntryTermOffset STU_TYPE  enrollmentProbabilityScore  \\\n",
       "0  2886776     201710                2        F                         NaN   \n",
       "1  2886777     201710                2        F                         NaN   \n",
       "2  2886778     201710                2        F                         NaN   \n",
       "\n",
       "  dtCreated  enrollFlag  RET_T2  RET_T3      SUS     ...      SAT_MathQuant  \\\n",
       "0   00:08.6           0     NaN     NaN  04:37.8     ...                NaN   \n",
       "1   00:08.6           0     NaN     NaN  04:37.8     ...                NaN   \n",
       "2   00:08.6           0     NaN     NaN  04:37.8     ...                NaN   \n",
       "\n",
       "  SAT_Writing SAT_WritingEquiv SAT_CompEquiv SAT_MathQuantEquiv  \\\n",
       "0         NaN              NaN           NaN                NaN   \n",
       "1         NaN              NaN           NaN                NaN   \n",
       "2         NaN              NaN           NaN                NaN   \n",
       "\n",
       "  SAT_EngVerbEquiv HS_VAR1 ComboRank RegressionRank AcademicRank  \n",
       "0              NaN     NaN       NaN            NaN          NaN  \n",
       "1              NaN     NaN       NaN            NaN          NaN  \n",
       "2              NaN     NaN       NaN            NaN          NaN  \n",
       "\n",
       "[3 rows x 128 columns]"
      ]
     },
     "execution_count": 3,
     "metadata": {},
     "output_type": "execute_result"
    }
   ],
   "source": [
    "readIn[:3]"
   ]
  },
  {
   "cell_type": "markdown",
   "metadata": {},
   "source": [
    "Dropping:\n",
    "\n",
    "cID - extraneous identifier \n",
    "Market_Segment - \n",
    "Facebook_Status - \n",
    "Parent_ACU_Distance\n",
    "Territory_URM\n",
    "Territory_Manager\n",
    "Territory_State\n",
    "Territory_County\n",
    "Territory_ZIP\n",
    "enrollmentProbabilityScore - being put into currentModel variable\n",
    "Territory_URM\n",
    "Territory_Manager\n",
    "Territory_Code\n",
    "\n",
    "SourceCat_txt\n",
    "SourceGroup_txt\n",
    "Source_txt\n",
    "SourceCat_INQ_txt\n",
    "SourceGroup_INQ_txt\n",
    "Source_INQ_txt\n",
    "SearchSourceFlag\n",
    "\n",
    "HSCEEB\n",
    "ChurchCode\n",
    "HasValidPhone\n",
    "ClearinghouseFICE\n",
    "ClearinghouseName\n",
    "ClearinghouseDistanceFromHome\n",
    "ClearinghouseControl\n",
    "ClearinghouseCost\n",
    "ClearinghouseZip5\n",
    "ChurchActivities\n",
    "AppLaunchGroup\n",
    "\n",
    "//// for now dropping all PRISM information \n",
    "PRIZM_Segment\n",
    "PRIZM_SocialSegment\n",
    "PRIZM_LifestyleSegment\n",
    "// PRIZM_HouseholdIncome\n",
    "PRIZM_EducBaPercent -> ask Garrett about this \n",
    "\n",
    "Latitude\n",
    "Longitude\n",
    "ZIP_CODE\n",
    "ENROLL_STATUS\n",
    "ADMIT_TYPE\n",
    "IntentToEnroll\n",
    "enrollModelScore\n",
    "enrollModelScoreBand\n",
    "applyModelScore\n",
    "QUAL_Status\n",
    "QUAL_Date\n",
    "\n",
    "ComboRank\n",
    "RegressionRank\n",
    "AcademicRank\n",
    "HS_VAR1\n",
    "SAT_EngVerbEquiv\n",
    "SAT_MathQuantEquiv\n",
    "SAT_CompEquiv\n",
    "SAT_WritingEquiv\n",
    "\n",
    "NCAA_GPA\n",
    "ACU_AcademicRating\n",
    "HS_RANK\n",
    "CLASS_RANK_QUARTILE_CALC\n",
    "CLASS_RANK_QUARTILE\n",
    "PSAT_SAT_ScoreBand\n",
    "PSU_GPA_Status\n",
    "\n",
    "FAFSA\n",
    "Camp_Count\n",
    "Sibling_Count\n",
    "Referral_Count - how many people wanted the student to come / Referral_Ind gives a boolean if they were refered \n",
    "MarketSegment_txt - MarketSegment should have all we need \n",
    "\n",
    "\n",
    "//// ask about\n",
    "STU_TYPE\n",
    "dtCreated\n",
    "CollegeCode\n",
    "HSCode"
   ]
  },
  {
   "cell_type": "code",
   "execution_count": 4,
   "metadata": {
    "collapsed": true
   },
   "outputs": [],
   "source": [
    "original = readIn\n",
    "currentModel = original['enrollmentProbabilityScore']\n",
    "currentModel2 = original['ComboRank']"
   ]
  },
  {
   "cell_type": "code",
   "execution_count": 5,
   "metadata": {
    "collapsed": true
   },
   "outputs": [],
   "source": [
    "original = original.drop(['cID', 'Territory_Code', 'Market_Segment', 'enrollmentProbabilityScore', 'Territory_URM', 'Territory_Manager', 'Facebook_Status', 'Parent_ACU_Distance', 'Territory_URM', 'Territory_Manager', 'Territory_State', 'Territory_County', 'Territory_ZIP'], axis = 1)\n",
    "original = original.drop(['SearchSourceFlag', 'Source_INQ_txt', 'SourceGroup_INQ_txt', 'SourceCat_INQ_txt', 'Source_txt', 'SourceGroup_txt', 'SourceCat_txt'], axis = 1)\n",
    "original = original.drop(['AppLaunchGroup', 'ChurchActivities', 'ClearinghouseZip5', 'ClearinghouseZip5', 'ClearinghouseCost', 'ClearinghouseControl', 'ClearinghouseLevel', 'ClearinghouseDistanceFromHome', 'ClearinghouseName', 'ClearinghouseFICE', 'HasValidPhone', 'ChurchCode', 'HSCEEB'], axis = 1)\n",
    "original = original.drop(['PRIZM_Segment', 'PRIZM_SocialSegment', 'PRIZM_LifestyleSegment', 'PRIZM_EducBaPercent'], axis = 1)\n",
    "original = original.drop(['Latitude', 'Longitude', 'ZIP_CODE', 'ENROLL_STATUS', 'ADMIT_TYPE', 'IntentToEnroll', 'enrollModelScore', 'enrollModelScoreBand', 'applyModelScore', 'QUAL_Status', 'QUAL_Date'], axis = 1)\n",
    "original = original.drop(['ComboRank', 'RegressionRank', 'AcademicRank', 'HS_VAR1', 'SAT_EngVerbEquiv', 'SAT_MathQuantEquiv', 'SAT_CompEquiv', 'SAT_WritingEquiv'], axis = 1)\n",
    "original = original.drop(['NCAA_GPA', 'ACU_AcademicRating', 'HS_RANK', 'CLASS_RANK_QUARTILE_CALC', 'CLASS_RANK_QUARTILE', 'PSAT_SAT_ScoreBand', 'PSU_GPA_Status'], axis = 1)\n",
    "original = original.drop(['FAFSA', 'Sibling_Count', 'Camp_Count', 'Referral_Count', 'MarketSegment_txt'], axis = 1)\n",
    "original = original.drop(['STU_TYPE', 'dtCreated', 'CollegeCode', 'HSCode'], axis = 1)\n"
   ]
  },
  {
   "cell_type": "code",
   "execution_count": 6,
   "metadata": {},
   "outputs": [
    {
     "data": {
      "text/plain": [
       "59"
      ]
     },
     "execution_count": 6,
     "metadata": {},
     "output_type": "execute_result"
    }
   ],
   "source": [
    "# we should now have 58 columns. We can cut this down more\n",
    "len(original.columns)"
   ]
  },
  {
   "cell_type": "code",
   "execution_count": 7,
   "metadata": {},
   "outputs": [
    {
     "data": {
      "text/plain": [
       "550360"
      ]
     },
     "execution_count": 7,
     "metadata": {},
     "output_type": "execute_result"
    }
   ],
   "source": [
    "# number of original rows\n",
    "original.shape[0]"
   ]
  },
  {
   "cell_type": "markdown",
   "metadata": {},
   "source": [
    "Now we're dropping all rows where there are high school students whose names ACU has bought and hte studnet has showed no interest. Now we only have students who have inquired about ACU in some form. "
   ]
  },
  {
   "cell_type": "code",
   "execution_count": 8,
   "metadata": {},
   "outputs": [
    {
     "data": {
      "text/plain": [
       "185211"
      ]
     },
     "execution_count": 8,
     "metadata": {},
     "output_type": "execute_result"
    }
   ],
   "source": [
    "original = original[pd.notnull(original['INQ'])]\n",
    "original.shape[0]"
   ]
  },
  {
   "cell_type": "markdown",
   "metadata": {},
   "source": [
    "# Preston's to do list # "
   ]
  },
  {
   "cell_type": "markdown",
   "metadata": {},
   "source": [
    "For below - only use rows with co\n",
    "1. summary statistics - how many of the students who have some value in the column 'APP' (Aka not NaN) had an enrollFlag = 1?\n",
    "2. summmary statistics - how many females verses how many males?\n",
    "3. graphs - graph the income (should be in column PRIZM_HouseholdIncome)\n",
    "4. graph / histogram ACT_COMP and SAT_Comp for all students and for all students who have enrollFlag = 1\n",
    "5. Find most common State_txt and County_txt and Country_txt for information purposes\n",
    "6. See how percentage of students who had non-zero Core_Ind who had enrollFlag = 1 verses students who zero Core_Ind who had enrollFlag = 1"
   ]
  },
  {
   "cell_type": "code",
   "execution_count": 9,
   "metadata": {},
   "outputs": [
    {
     "data": {
      "text/plain": [
       "['aID',\n",
       " 'TERM_CODE',\n",
       " 'EntryTermOffset',\n",
       " 'enrollFlag',\n",
       " 'RET_T2',\n",
       " 'RET_T3',\n",
       " 'SUS',\n",
       " 'PSP',\n",
       " 'INQ',\n",
       " 'APP',\n",
       " 'COMP',\n",
       " 'ADM',\n",
       " 'DEP',\n",
       " 'CNF',\n",
       " 'PPT',\n",
       " 'CAN',\n",
       " 'FIRSTVISIT',\n",
       " 'FIRSTSCORE',\n",
       " 'FirstSeniorVisit',\n",
       " 'BirthDate',\n",
       " 'Gender',\n",
       " 'Ethnicity_txt',\n",
       " 'Denomination_txt',\n",
       " 'Legacy_Ind',\n",
       " 'Sibling_Ind',\n",
       " 'Camper_Ind',\n",
       " 'Board_Ind',\n",
       " 'Core_Ind',\n",
       " 'Referral_Ind',\n",
       " 'Athlete_Ind',\n",
       " 'Honors_Elligible_Ind',\n",
       " 'Parent_Same_LastName',\n",
       " 'State_txt',\n",
       " 'County_txt',\n",
       " 'ZIP5',\n",
       " 'ACU_Distance',\n",
       " 'ACU_Distance_Band',\n",
       " 'Parent_ACU_Distance_Band',\n",
       " 'Territory_txt',\n",
       " 'PRIZM_HouseholdIncome',\n",
       " 'Country_txt',\n",
       " 'QUAL_Familiarity',\n",
       " 'QUAL_Rank',\n",
       " 'HS_SIZE',\n",
       " 'HS_RankPercent',\n",
       " 'HS_GPA_CALC',\n",
       " 'SAT_TO_ACT_EQUIV',\n",
       " 'ACU_AcadRatingBand',\n",
       " 'NUM_Advanced_Courses',\n",
       " 'ACT_COMP',\n",
       " 'ACT_EngVerb',\n",
       " 'ACT_MathQuant',\n",
       " 'ACT_Reading',\n",
       " 'ACT_Science',\n",
       " 'ACT_Writing',\n",
       " 'SAT_Comp',\n",
       " 'SAT_EngVerb',\n",
       " 'SAT_MathQuant',\n",
       " 'SAT_Writing']"
      ]
     },
     "execution_count": 9,
     "metadata": {},
     "output_type": "execute_result"
    }
   ],
   "source": [
    "# a list of all columns we kept\n",
    "list(original.columns.values)"
   ]
  },
  {
   "cell_type": "code",
   "execution_count": 10,
   "metadata": {},
   "outputs": [],
   "source": [
    "applied = original[original.APP.notnull()]"
   ]
  },
  {
   "cell_type": "code",
   "execution_count": 11,
   "metadata": {},
   "outputs": [
    {
     "data": {
      "text/html": [
       "<div>\n",
       "<style>\n",
       "    .dataframe thead tr:only-child th {\n",
       "        text-align: right;\n",
       "    }\n",
       "\n",
       "    .dataframe thead th {\n",
       "        text-align: left;\n",
       "    }\n",
       "\n",
       "    .dataframe tbody tr th {\n",
       "        vertical-align: top;\n",
       "    }\n",
       "</style>\n",
       "<table border=\"1\" class=\"dataframe\">\n",
       "  <thead>\n",
       "    <tr style=\"text-align: right;\">\n",
       "      <th></th>\n",
       "      <th>aID</th>\n",
       "      <th>TERM_CODE</th>\n",
       "      <th>EntryTermOffset</th>\n",
       "      <th>enrollFlag</th>\n",
       "      <th>RET_T2</th>\n",
       "      <th>RET_T3</th>\n",
       "      <th>SUS</th>\n",
       "      <th>PSP</th>\n",
       "      <th>INQ</th>\n",
       "      <th>APP</th>\n",
       "      <th>...</th>\n",
       "      <th>ACT_COMP</th>\n",
       "      <th>ACT_EngVerb</th>\n",
       "      <th>ACT_MathQuant</th>\n",
       "      <th>ACT_Reading</th>\n",
       "      <th>ACT_Science</th>\n",
       "      <th>ACT_Writing</th>\n",
       "      <th>SAT_Comp</th>\n",
       "      <th>SAT_EngVerb</th>\n",
       "      <th>SAT_MathQuant</th>\n",
       "      <th>SAT_Writing</th>\n",
       "    </tr>\n",
       "  </thead>\n",
       "  <tbody>\n",
       "    <tr>\n",
       "      <th>26748</th>\n",
       "      <td>2514646</td>\n",
       "      <td>201510</td>\n",
       "      <td>4</td>\n",
       "      <td>0</td>\n",
       "      <td>0.0</td>\n",
       "      <td>0.0</td>\n",
       "      <td>16:25.9</td>\n",
       "      <td>55:14.4</td>\n",
       "      <td>3/1/14 0:00</td>\n",
       "      <td>3/1/14 0:00</td>\n",
       "      <td>...</td>\n",
       "      <td>NaN</td>\n",
       "      <td>NaN</td>\n",
       "      <td>NaN</td>\n",
       "      <td>NaN</td>\n",
       "      <td>NaN</td>\n",
       "      <td>NaN</td>\n",
       "      <td>NaN</td>\n",
       "      <td>NaN</td>\n",
       "      <td>NaN</td>\n",
       "      <td>NaN</td>\n",
       "    </tr>\n",
       "    <tr>\n",
       "      <th>26749</th>\n",
       "      <td>2514997</td>\n",
       "      <td>201710</td>\n",
       "      <td>2</td>\n",
       "      <td>0</td>\n",
       "      <td>0.0</td>\n",
       "      <td>0.0</td>\n",
       "      <td>50:42.8</td>\n",
       "      <td>54:16.8</td>\n",
       "      <td>51:04.0</td>\n",
       "      <td>9/1/15 0:00</td>\n",
       "      <td>...</td>\n",
       "      <td>35.0</td>\n",
       "      <td>35.0</td>\n",
       "      <td>31.0</td>\n",
       "      <td>36.0</td>\n",
       "      <td>36.0</td>\n",
       "      <td>31.0</td>\n",
       "      <td>1510.0</td>\n",
       "      <td>800.0</td>\n",
       "      <td>710.0</td>\n",
       "      <td>780.0</td>\n",
       "    </tr>\n",
       "    <tr>\n",
       "      <th>26750</th>\n",
       "      <td>2511868</td>\n",
       "      <td>201710</td>\n",
       "      <td>2</td>\n",
       "      <td>1</td>\n",
       "      <td>1.0</td>\n",
       "      <td>1.0</td>\n",
       "      <td>34:24.2</td>\n",
       "      <td>56:05.5</td>\n",
       "      <td>48:51.5</td>\n",
       "      <td>7/8/15 0:00</td>\n",
       "      <td>...</td>\n",
       "      <td>31.0</td>\n",
       "      <td>25.0</td>\n",
       "      <td>30.0</td>\n",
       "      <td>35.0</td>\n",
       "      <td>32.0</td>\n",
       "      <td>24.0</td>\n",
       "      <td>NaN</td>\n",
       "      <td>NaN</td>\n",
       "      <td>NaN</td>\n",
       "      <td>NaN</td>\n",
       "    </tr>\n",
       "    <tr>\n",
       "      <th>26751</th>\n",
       "      <td>2511934</td>\n",
       "      <td>201710</td>\n",
       "      <td>2</td>\n",
       "      <td>0</td>\n",
       "      <td>0.0</td>\n",
       "      <td>0.0</td>\n",
       "      <td>34:30.1</td>\n",
       "      <td>56:05.5</td>\n",
       "      <td>48:51.5</td>\n",
       "      <td>7/5/15 0:00</td>\n",
       "      <td>...</td>\n",
       "      <td>NaN</td>\n",
       "      <td>NaN</td>\n",
       "      <td>NaN</td>\n",
       "      <td>NaN</td>\n",
       "      <td>NaN</td>\n",
       "      <td>NaN</td>\n",
       "      <td>1060.0</td>\n",
       "      <td>550.0</td>\n",
       "      <td>510.0</td>\n",
       "      <td>450.0</td>\n",
       "    </tr>\n",
       "    <tr>\n",
       "      <th>26752</th>\n",
       "      <td>2512317</td>\n",
       "      <td>201710</td>\n",
       "      <td>2</td>\n",
       "      <td>0</td>\n",
       "      <td>0.0</td>\n",
       "      <td>0.0</td>\n",
       "      <td>35:06.0</td>\n",
       "      <td>56:05.5</td>\n",
       "      <td>48:51.5</td>\n",
       "      <td>8/8/15 0:00</td>\n",
       "      <td>...</td>\n",
       "      <td>28.0</td>\n",
       "      <td>25.0</td>\n",
       "      <td>27.0</td>\n",
       "      <td>32.0</td>\n",
       "      <td>29.0</td>\n",
       "      <td>24.0</td>\n",
       "      <td>NaN</td>\n",
       "      <td>NaN</td>\n",
       "      <td>NaN</td>\n",
       "      <td>NaN</td>\n",
       "    </tr>\n",
       "  </tbody>\n",
       "</table>\n",
       "<p>5 rows × 59 columns</p>\n",
       "</div>"
      ],
      "text/plain": [
       "           aID  TERM_CODE  EntryTermOffset  enrollFlag  RET_T2  RET_T3  \\\n",
       "26748  2514646     201510                4           0     0.0     0.0   \n",
       "26749  2514997     201710                2           0     0.0     0.0   \n",
       "26750  2511868     201710                2           1     1.0     1.0   \n",
       "26751  2511934     201710                2           0     0.0     0.0   \n",
       "26752  2512317     201710                2           0     0.0     0.0   \n",
       "\n",
       "           SUS      PSP          INQ          APP     ...     ACT_COMP  \\\n",
       "26748  16:25.9  55:14.4  3/1/14 0:00  3/1/14 0:00     ...          NaN   \n",
       "26749  50:42.8  54:16.8      51:04.0  9/1/15 0:00     ...         35.0   \n",
       "26750  34:24.2  56:05.5      48:51.5  7/8/15 0:00     ...         31.0   \n",
       "26751  34:30.1  56:05.5      48:51.5  7/5/15 0:00     ...          NaN   \n",
       "26752  35:06.0  56:05.5      48:51.5  8/8/15 0:00     ...         28.0   \n",
       "\n",
       "      ACT_EngVerb ACT_MathQuant ACT_Reading ACT_Science ACT_Writing SAT_Comp  \\\n",
       "26748         NaN           NaN         NaN         NaN         NaN      NaN   \n",
       "26749        35.0          31.0        36.0        36.0        31.0   1510.0   \n",
       "26750        25.0          30.0        35.0        32.0        24.0      NaN   \n",
       "26751         NaN           NaN         NaN         NaN         NaN   1060.0   \n",
       "26752        25.0          27.0        32.0        29.0        24.0      NaN   \n",
       "\n",
       "      SAT_EngVerb SAT_MathQuant SAT_Writing  \n",
       "26748         NaN           NaN         NaN  \n",
       "26749       800.0         710.0       780.0  \n",
       "26750         NaN           NaN         NaN  \n",
       "26751       550.0         510.0       450.0  \n",
       "26752         NaN           NaN         NaN  \n",
       "\n",
       "[5 rows x 59 columns]"
      ]
     },
     "execution_count": 11,
     "metadata": {},
     "output_type": "execute_result"
    }
   ],
   "source": [
    "applied[:5]"
   ]
  },
  {
   "cell_type": "code",
   "execution_count": 12,
   "metadata": {
    "collapsed": true
   },
   "outputs": [],
   "source": [
    "appliedAndEnrolled = applied[applied[\"enrollFlag\"] == 1]"
   ]
  },
  {
   "cell_type": "code",
   "execution_count": 13,
   "metadata": {},
   "outputs": [
    {
     "data": {
      "text/html": [
       "<div>\n",
       "<style>\n",
       "    .dataframe thead tr:only-child th {\n",
       "        text-align: right;\n",
       "    }\n",
       "\n",
       "    .dataframe thead th {\n",
       "        text-align: left;\n",
       "    }\n",
       "\n",
       "    .dataframe tbody tr th {\n",
       "        vertical-align: top;\n",
       "    }\n",
       "</style>\n",
       "<table border=\"1\" class=\"dataframe\">\n",
       "  <thead>\n",
       "    <tr style=\"text-align: right;\">\n",
       "      <th></th>\n",
       "      <th>aID</th>\n",
       "      <th>TERM_CODE</th>\n",
       "      <th>EntryTermOffset</th>\n",
       "      <th>enrollFlag</th>\n",
       "      <th>RET_T2</th>\n",
       "      <th>RET_T3</th>\n",
       "      <th>SUS</th>\n",
       "      <th>PSP</th>\n",
       "      <th>INQ</th>\n",
       "      <th>APP</th>\n",
       "      <th>...</th>\n",
       "      <th>ACT_COMP</th>\n",
       "      <th>ACT_EngVerb</th>\n",
       "      <th>ACT_MathQuant</th>\n",
       "      <th>ACT_Reading</th>\n",
       "      <th>ACT_Science</th>\n",
       "      <th>ACT_Writing</th>\n",
       "      <th>SAT_Comp</th>\n",
       "      <th>SAT_EngVerb</th>\n",
       "      <th>SAT_MathQuant</th>\n",
       "      <th>SAT_Writing</th>\n",
       "    </tr>\n",
       "  </thead>\n",
       "  <tbody>\n",
       "    <tr>\n",
       "      <th>26750</th>\n",
       "      <td>2511868</td>\n",
       "      <td>201710</td>\n",
       "      <td>2</td>\n",
       "      <td>1</td>\n",
       "      <td>1.0</td>\n",
       "      <td>1.0</td>\n",
       "      <td>34:24.2</td>\n",
       "      <td>56:05.5</td>\n",
       "      <td>48:51.5</td>\n",
       "      <td>7/8/15 0:00</td>\n",
       "      <td>...</td>\n",
       "      <td>31.0</td>\n",
       "      <td>25.0</td>\n",
       "      <td>30.0</td>\n",
       "      <td>35.0</td>\n",
       "      <td>32.0</td>\n",
       "      <td>24.0</td>\n",
       "      <td>NaN</td>\n",
       "      <td>NaN</td>\n",
       "      <td>NaN</td>\n",
       "      <td>NaN</td>\n",
       "    </tr>\n",
       "    <tr>\n",
       "      <th>26770</th>\n",
       "      <td>2529864</td>\n",
       "      <td>201610</td>\n",
       "      <td>3</td>\n",
       "      <td>1</td>\n",
       "      <td>1.0</td>\n",
       "      <td>1.0</td>\n",
       "      <td>31:34.4</td>\n",
       "      <td>54:25.3</td>\n",
       "      <td>10/28/13 0:00</td>\n",
       "      <td>7/23/14 0:00</td>\n",
       "      <td>...</td>\n",
       "      <td>21.0</td>\n",
       "      <td>20.0</td>\n",
       "      <td>24.0</td>\n",
       "      <td>17.0</td>\n",
       "      <td>24.0</td>\n",
       "      <td>NaN</td>\n",
       "      <td>1010.0</td>\n",
       "      <td>480.0</td>\n",
       "      <td>530.0</td>\n",
       "      <td>460.0</td>\n",
       "    </tr>\n",
       "    <tr>\n",
       "      <th>26771</th>\n",
       "      <td>2530511</td>\n",
       "      <td>201610</td>\n",
       "      <td>3</td>\n",
       "      <td>1</td>\n",
       "      <td>1.0</td>\n",
       "      <td>1.0</td>\n",
       "      <td>37:01.9</td>\n",
       "      <td>54:14.4</td>\n",
       "      <td>8/11/14 9:37</td>\n",
       "      <td>8/20/14 0:00</td>\n",
       "      <td>...</td>\n",
       "      <td>NaN</td>\n",
       "      <td>NaN</td>\n",
       "      <td>NaN</td>\n",
       "      <td>NaN</td>\n",
       "      <td>NaN</td>\n",
       "      <td>NaN</td>\n",
       "      <td>1060.0</td>\n",
       "      <td>500.0</td>\n",
       "      <td>560.0</td>\n",
       "      <td>460.0</td>\n",
       "    </tr>\n",
       "  </tbody>\n",
       "</table>\n",
       "<p>3 rows × 59 columns</p>\n",
       "</div>"
      ],
      "text/plain": [
       "           aID  TERM_CODE  EntryTermOffset  enrollFlag  RET_T2  RET_T3  \\\n",
       "26750  2511868     201710                2           1     1.0     1.0   \n",
       "26770  2529864     201610                3           1     1.0     1.0   \n",
       "26771  2530511     201610                3           1     1.0     1.0   \n",
       "\n",
       "           SUS      PSP            INQ           APP     ...     ACT_COMP  \\\n",
       "26750  34:24.2  56:05.5        48:51.5   7/8/15 0:00     ...         31.0   \n",
       "26770  31:34.4  54:25.3  10/28/13 0:00  7/23/14 0:00     ...         21.0   \n",
       "26771  37:01.9  54:14.4   8/11/14 9:37  8/20/14 0:00     ...          NaN   \n",
       "\n",
       "      ACT_EngVerb ACT_MathQuant ACT_Reading ACT_Science ACT_Writing SAT_Comp  \\\n",
       "26750        25.0          30.0        35.0        32.0        24.0      NaN   \n",
       "26770        20.0          24.0        17.0        24.0         NaN   1010.0   \n",
       "26771         NaN           NaN         NaN         NaN         NaN   1060.0   \n",
       "\n",
       "      SAT_EngVerb SAT_MathQuant SAT_Writing  \n",
       "26750         NaN           NaN         NaN  \n",
       "26770       480.0         530.0       460.0  \n",
       "26771       500.0         560.0       460.0  \n",
       "\n",
       "[3 rows x 59 columns]"
      ]
     },
     "execution_count": 13,
     "metadata": {},
     "output_type": "execute_result"
    }
   ],
   "source": [
    "appliedAndEnrolled[:3]"
   ]
  },
  {
   "cell_type": "code",
   "execution_count": 14,
   "metadata": {},
   "outputs": [
    {
     "data": {
      "text/plain": [
       "4464"
      ]
     },
     "execution_count": 14,
     "metadata": {},
     "output_type": "execute_result"
    }
   ],
   "source": [
    "#This is the number of students who both applied and enrolled.\n",
    "appliedAndEnrolled.shape[0]"
   ]
  },
  {
   "cell_type": "code",
   "execution_count": 15,
   "metadata": {
    "collapsed": true
   },
   "outputs": [],
   "source": [
    "originalSize = original.shape[0]"
   ]
  },
  {
   "cell_type": "code",
   "execution_count": 16,
   "metadata": {},
   "outputs": [],
   "source": [
    "genderSizes = original.groupby('Gender').size()"
   ]
  },
  {
   "cell_type": "code",
   "execution_count": 17,
   "metadata": {},
   "outputs": [
    {
     "data": {
      "text/plain": [
       "Gender\n",
       "1.0    104279\n",
       "2.0     69793\n",
       "dtype: int64"
      ]
     },
     "execution_count": 17,
     "metadata": {},
     "output_type": "execute_result"
    }
   ],
   "source": [
    "#1 is probably female, 2 is probably male \n",
    "genderSizes"
   ]
  },
  {
   "cell_type": "code",
   "execution_count": 18,
   "metadata": {},
   "outputs": [
    {
     "name": "stdout",
     "output_type": "stream",
     "text": [
      "female:  59.90567121650812 \n",
      "male:  40.09432878349189\n"
     ]
    }
   ],
   "source": [
    "total = 104279 + 69793;\n",
    "female = 104279. / total * 100\n",
    "male = 69793. / total * 100\n",
    "print(\"female: \", female, \"\\nmale: \", male)"
   ]
  },
  {
   "cell_type": "code",
   "execution_count": 19,
   "metadata": {},
   "outputs": [],
   "source": [
    "enrolled = original[original['enrollFlag'] == 1]"
   ]
  },
  {
   "cell_type": "code",
   "execution_count": 20,
   "metadata": {},
   "outputs": [
    {
     "data": {
      "text/plain": [
       "count      3065.000000\n",
       "mean      70589.617292\n",
       "std       30630.418608\n",
       "min       18405.000000\n",
       "25%       47971.000000\n",
       "50%       63587.000000\n",
       "75%       88790.000000\n",
       "max      201471.000000\n",
       "Name: PRIZM_HouseholdIncome, dtype: float64"
      ]
     },
     "execution_count": 20,
     "metadata": {},
     "output_type": "execute_result"
    }
   ],
   "source": [
    "#no household income info for 1,399 enrolled students\n",
    "enrolled.PRIZM_HouseholdIncome.describe()"
   ]
  },
  {
   "cell_type": "code",
   "execution_count": 21,
   "metadata": {},
   "outputs": [
    {
     "data": {
      "text/plain": [
       "count    18020.000000\n",
       "mean        22.467925\n",
       "std          4.537494\n",
       "min          5.000000\n",
       "25%         19.000000\n",
       "50%         22.000000\n",
       "75%         25.000000\n",
       "max         36.000000\n",
       "Name: ACT_COMP, dtype: float64"
      ]
     },
     "execution_count": 21,
     "metadata": {},
     "output_type": "execute_result"
    }
   ],
   "source": [
    "#someone got an 1100 on their ACT somehow, so I restricted the scores to at or below 36\n",
    "generalACT = original[original['ACT_COMP'] <= 36.0].ACT_COMP.describe()\n",
    "generalACT"
   ]
  },
  {
   "cell_type": "code",
   "execution_count": 22,
   "metadata": {},
   "outputs": [
    {
     "data": {
      "text/plain": [
       "count    16871.000000\n",
       "mean      1013.272005\n",
       "std        172.639850\n",
       "min         15.000000\n",
       "25%        900.000000\n",
       "50%       1010.000000\n",
       "75%       1120.000000\n",
       "max       1920.000000\n",
       "Name: SAT_Comp, dtype: float64"
      ]
     },
     "execution_count": 22,
     "metadata": {},
     "output_type": "execute_result"
    }
   ],
   "source": [
    "generalSAT = original.SAT_Comp.describe()\n",
    "generalSAT"
   ]
  },
  {
   "cell_type": "code",
   "execution_count": 23,
   "metadata": {},
   "outputs": [
    {
     "data": {
      "text/plain": [
       "count    2909.000000\n",
       "mean       23.348230\n",
       "std         3.969547\n",
       "min        10.000000\n",
       "25%        21.000000\n",
       "50%        23.000000\n",
       "75%        26.000000\n",
       "max        35.000000\n",
       "Name: ACT_COMP, dtype: float64"
      ]
     },
     "execution_count": 23,
     "metadata": {},
     "output_type": "execute_result"
    }
   ],
   "source": [
    "enrolledACT = enrolled.ACT_COMP.describe()\n",
    "enrolledACT"
   ]
  },
  {
   "cell_type": "code",
   "execution_count": 24,
   "metadata": {},
   "outputs": [
    {
     "data": {
      "text/plain": [
       "count    2743.000000\n",
       "mean     1058.497995\n",
       "std       146.873832\n",
       "min       610.000000\n",
       "25%       960.000000\n",
       "50%      1060.000000\n",
       "75%      1150.000000\n",
       "max      1570.000000\n",
       "Name: SAT_Comp, dtype: float64"
      ]
     },
     "execution_count": 24,
     "metadata": {},
     "output_type": "execute_result"
    }
   ],
   "source": [
    "enrolledSAT = enrolled.SAT_Comp.describe()\n",
    "enrolledSAT"
   ]
  },
  {
   "cell_type": "code",
   "execution_count": 25,
   "metadata": {},
   "outputs": [
    {
     "data": {
      "image/png": "[encoded data removed]",
      "text/plain": [
       "<matplotlib.figure.Figure at 0x103360978>"
      ]
     },
     "metadata": {},
     "output_type": "display_data"
    }
   ],
   "source": [
    "#feel free to rename axes, title, etc.\n",
    "sortedGeneralACTFiltered = original[original.ACT_COMP <= 36].ACT_COMP.sort_values()\n",
    "plt.hist(sortedGeneralACTFiltered, 36, (0,36), normed = 1, facecolor = \"green\")\n",
    "y = mlab.normpdf(sortedGeneralACTFiltered, sortedGeneralACTFiltered.mean(), sortedGeneralACTFiltered.std())\n",
    "l = plt.plot(sortedGeneralACTFiltered, y, 'r--', linewidth=1)\n",
    "\n",
    "plt.xlabel('ACT Composite Score')\n",
    "plt.ylabel('Number of students')\n",
    "plt.title('ACT Composite Score vs. Number of students')\n",
    "plt.savefig('ACTHistogram.png')\n",
    "plt.show()"
   ]
  },
  {
   "cell_type": "code",
   "execution_count": 26,
   "metadata": {},
   "outputs": [
    {
     "data": {
      "image/png": "[encoded data removed]",
      "text/plain": [
       "<matplotlib.figure.Figure at 0x1a0885e860>"
      ]
     },
     "metadata": {},
     "output_type": "display_data"
    }
   ],
   "source": [
    "#feel free to rename axes, title, etc.\n",
    "sortedGeneralSATFiltered = original[original.SAT_Comp.notnull()].SAT_Comp.sort_values()\n",
    "plt.hist(sortedGeneralSATFiltered, 50, (0,1600), normed = 1, facecolor = \"green\")\n",
    "y = mlab.normpdf(sortedGeneralSATFiltered, sortedGeneralSATFiltered.mean(), sortedGeneralSATFiltered.std())\n",
    "l = plt.plot(sortedGeneralSATFiltered, y, 'r--', linewidth=1)\n",
    "\n",
    "\n",
    "\n",
    "plt.xlabel('SAT Composite Score')\n",
    "plt.ylabel('Frequency')\n",
    "plt.title('SAT Composite Score vs. Frequency')\n",
    "plt.savefig('SaTHistogram.png')\n",
    "plt.show()"
   ]
  },
  {
   "cell_type": "code",
   "execution_count": 27,
   "metadata": {},
   "outputs": [
    {
     "data": {
      "image/png": "[encoded data removed]",
      "text/plain": [
       "<matplotlib.figure.Figure at 0x1a08844748>"
      ]
     },
     "metadata": {},
     "output_type": "display_data"
    }
   ],
   "source": [
    "#feel free to rename axes, title, etc.\n",
    "sortedEnrolledACTFiltered = enrolled[enrolled.ACT_COMP <= 36].ACT_COMP.sort_values()\n",
    "plt.hist(sortedEnrolledACTFiltered, 36, (0,36), normed = 1, facecolor = \"green\")\n",
    "y = mlab.normpdf(sortedEnrolledACTFiltered, sortedEnrolledACTFiltered.mean(), sortedEnrolledACTFiltered.std())\n",
    "l = plt.plot(sortedEnrolledACTFiltered, y, 'r--', linewidth=1)\n",
    "\n",
    "plt.xlabel('ACT Composite Score (Enrolled)')\n",
    "plt.ylabel('Number of students')\n",
    "plt.title('ACT Composite Score vs. Number of students')\n",
    "plt.savefig('enrolledACTHistogram.png')\n",
    "plt.show()"
   ]
  },
  {
   "cell_type": "code",
   "execution_count": 28,
   "metadata": {},
   "outputs": [
    {
     "data": {
      "image/png": "[encoded data removed]",
      "text/plain": [
       "<matplotlib.figure.Figure at 0x1a311e8668>"
      ]
     },
     "metadata": {},
     "output_type": "display_data"
    }
   ],
   "source": [
    "#feel free to rename axes, title, etc.\n",
    "sortedEnrolledSATFiltered = enrolled[enrolled.SAT_Comp.notnull()].SAT_Comp.sort_values()\n",
    "plt.hist(sortedEnrolledSATFiltered, 50, (0,1600), normed = 1, facecolor = \"green\")\n",
    "y = mlab.normpdf(sortedEnrolledSATFiltered, sortedEnrolledSATFiltered.mean(), sortedEnrolledSATFiltered.std())\n",
    "l = plt.plot(sortedEnrolledSATFiltered, y, 'r--', linewidth=1)\n",
    "\n",
    "\n",
    "\n",
    "plt.xlabel('SAT Composite Score (Enrolled)')\n",
    "plt.ylabel('Frequency')\n",
    "plt.title('SAT Composite Score vs. Frequency')\n",
    "plt.savefig('enrolledSATHistogram.png')\n",
    "plt.show()"
   ]
  },
  {
   "cell_type": "code",
   "execution_count": 29,
   "metadata": {},
   "outputs": [
    {
     "data": {
      "text/plain": [
       "State_txt\n",
       "TX    147386\n",
       "CA      3760\n",
       "OK      2481\n",
       "CO      2464\n",
       "TN      2166\n",
       "dtype: int64"
      ]
     },
     "execution_count": 29,
     "metadata": {},
     "output_type": "execute_result"
    }
   ],
   "source": [
    "stateCount = original.groupby('State_txt').size()\n",
    "stateCount.sort_values(ascending = False)[:5]"
   ]
  },
  {
   "cell_type": "code",
   "execution_count": 30,
   "metadata": {},
   "outputs": [
    {
     "data": {
      "text/plain": [
       "County_txt\n",
       "Tarrant                           15400\n",
       "Harris                            14375\n",
       "Dallas                            12798\n",
       "Bexar                              9253\n",
       "Collin                             6550\n",
       "Denton                             6235\n",
       "Williamson                         5558\n",
       "Travis                             4438\n",
       "El Paso                            3839\n",
       "Hidalgo                            3479\n",
       "dtype: int64"
      ]
     },
     "execution_count": 30,
     "metadata": {},
     "output_type": "execute_result"
    }
   ],
   "source": [
    "countyCount = original.groupby('County_txt').size()\n",
    "countyCount.sort_values(ascending = False)[:10]"
   ]
  },
  {
   "cell_type": "code",
   "execution_count": 31,
   "metadata": {},
   "outputs": [
    {
     "data": {
      "text/plain": [
       "Country_txt\n",
       "US - United States    176903\n",
       "MX - Mexico              948\n",
       "HN - Honduras            674\n",
       "HK - Hong Kong           354\n",
       "NG - Nigeria             319\n",
       "dtype: int64"
      ]
     },
     "execution_count": 31,
     "metadata": {},
     "output_type": "execute_result"
    }
   ],
   "source": [
    "countryCount = original.groupby('Country_txt').size()\n",
    "countryCount.sort_values(ascending = False)[:5]"
   ]
  },
  {
   "cell_type": "code",
   "execution_count": 32,
   "metadata": {},
   "outputs": [
    {
     "data": {
      "text/plain": [
       "Country_txt\n",
       "US - United States    4313\n",
       "NP - Nepal              32\n",
       "CN - China              13\n",
       "JP - Japan              11\n",
       "HN - Honduras           11\n",
       "dtype: int64"
      ]
     },
     "execution_count": 32,
     "metadata": {},
     "output_type": "execute_result"
    }
   ],
   "source": [
    "countryCount = enrolled.groupby('Country_txt').size()\n",
    "countryCount.sort_values(ascending = False)[:5]"
   ]
  },
  {
   "cell_type": "code",
   "execution_count": 41,
   "metadata": {},
   "outputs": [
    {
     "data": {
      "image/png": "[encoded data removed]",
      "text/plain": [
       "<matplotlib.figure.Figure at 0x1a33f354a8>"
      ]
     },
     "metadata": {},
     "output_type": "display_data"
    }
   ],
   "source": [
    "householdIncome = original[original.PRIZM_HouseholdIncome.notnull()].PRIZM_HouseholdIncome.sort_values()\n",
    "plt.hist(householdIncome, 50, (0,300000), normed = 1, facecolor = \"green\")\n",
    "y = mlab.normpdf(householdIncome, householdIncome.mean(), householdIncome.std())\n",
    "l = plt.plot(householdIncome, y, 'r--', linewidth=1)\n",
    "\n",
    "plt.xlabel('Household Income in USD')\n",
    "plt.ylabel('Frequency')\n",
    "plt.title('Household Income vs. Frequency')\n",
    "plt.savefig('houseHoldIncomeHistogram.png')\n",
    "plt.show()"
   ]
  },
  {
   "cell_type": "code",
   "execution_count": 45,
   "metadata": {},
   "outputs": [
    {
     "data": {
      "image/png": "[encoded data removed]",
      "text/plain": [
       "<matplotlib.figure.Figure at 0x1a341271d0>"
      ]
     },
     "metadata": {},
     "output_type": "display_data"
    }
   ],
   "source": [
    "householdIncomeEnrolled = enrolled[enrolled.PRIZM_HouseholdIncome.notnull()].PRIZM_HouseholdIncome.sort_values()\n",
    "plt.hist(householdIncomeEnrolled, 50, (0,300000), normed = 1, facecolor = \"green\")\n",
    "y = mlab.normpdf(householdIncomeEnrolled, householdIncomeEnrolled.mean(), householdIncomeEnrolled.std())\n",
    "l = plt.plot(householdIncomeEnrolled, y, 'r--', linewidth=1)\n",
    "\n",
    "plt.xlabel('Household Income in USD (Enrolled)')\n",
    "plt.ylabel('Frequency')\n",
    "plt.title('Household Income vs. Frequency')\n",
    "plt.savefig('houseHoldIncomeEnrolledHistogram.png')\n",
    "plt.show()"
   ]
  },
  {
   "cell_type": "code",
   "execution_count": 43,
   "metadata": {},
   "outputs": [
    {
     "data": {
      "text/plain": [
       "Core_Ind  enrollFlag\n",
       "0         0             175541\n",
       "          1               3036\n",
       "1         0               5205\n",
       "          1               1429\n",
       "dtype: int64"
      ]
     },
     "execution_count": 43,
     "metadata": {},
     "output_type": "execute_result"
    }
   ],
   "source": [
    "original.groupby(['Core_Ind', 'enrollFlag']).size()"
   ]
  },
  {
   "cell_type": "code",
   "execution_count": 44,
   "metadata": {},
   "outputs": [
    {
     "name": "stdout",
     "output_type": "stream",
     "text": [
      "Percent enrolled but do not have legacy, etc.:  67.99552071668533\n",
      "Percent enrolled but are legacy, etc.:  32.004479283314666\n"
     ]
    }
   ],
   "source": [
    "enrolledCount = original[original['enrollFlag'] == 1].enrollFlag.size\n",
    "percentEnrolledNotCore = 3036/enrolledCount * 100\n",
    "percentCoreEnrolled = 1429/enrolledCount * 100\n",
    "print(\"Percent enrolled but do not have legacy, etc.: \", percentEnrolledNotCore)\n",
    "print(\"Percent enrolled but are legacy, etc.: \", percentCoreEnrolled)"
   ]
  },
  {
   "cell_type": "code",
   "execution_count": null,
   "metadata": {
    "collapsed": true
   },
   "outputs": [],
   "source": []
  }
 ],
 "metadata": {
  "kernelspec": {
   "display_name": "Python 3",
   "language": "python",
   "name": "python3"
  },
  "language_info": {
   "codemirror_mode": {
    "name": "ipython",
    "version": 3
   },
   "file_extension": ".py",
   "mimetype": "text/x-python",
   "name": "python",
   "nbconvert_exporter": "python",
   "pygments_lexer": "ipython3",
   "version": "3.6.3"
  }
 },
 "nbformat": 4,
 "nbformat_minor": 2
}
